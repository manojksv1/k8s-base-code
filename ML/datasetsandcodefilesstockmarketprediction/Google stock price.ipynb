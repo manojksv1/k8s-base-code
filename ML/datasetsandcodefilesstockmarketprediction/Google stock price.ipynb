{
 "cells": [
  {
   "cell_type": "code",
   "execution_count": 1,
   "metadata": {},
   "outputs": [
    {
     "name": "stderr",
     "output_type": "stream",
     "text": [
      "2024-05-10 20:41:33.792505: I external/local_tsl/tsl/cuda/cudart_stub.cc:32] Could not find cuda drivers on your machine, GPU will not be used.\n",
      "2024-05-10 20:41:33.796032: I external/local_tsl/tsl/cuda/cudart_stub.cc:32] Could not find cuda drivers on your machine, GPU will not be used.\n",
      "2024-05-10 20:41:33.844292: I tensorflow/core/platform/cpu_feature_guard.cc:210] This TensorFlow binary is optimized to use available CPU instructions in performance-critical operations.\n",
      "To enable the following instructions: AVX2 FMA, in other operations, rebuild TensorFlow with the appropriate compiler flags.\n",
      "2024-05-10 20:41:35.105638: W tensorflow/compiler/tf2tensorrt/utils/py_utils.cc:38] TF-TRT Warning: Could not find TensorRT\n"
     ]
    }
   ],
   "source": [
    "import numpy as np \n",
    "import pandas as pd \n",
    "import matplotlib.pyplot as plt \n",
    "from sklearn.preprocessing import MinMaxScaler\n",
    "from keras.models import Sequential\n",
    "from keras.layers import Dense,LSTM,Dropout\n",
    "from sklearn.metrics import mean_absolute_error, mean_squared_error"
   ]
  },
  {
   "cell_type": "code",
   "execution_count": 2,
   "metadata": {},
   "outputs": [
    {
     "data": {
      "text/html": [
       "<div>\n",
       "<style scoped>\n",
       "    .dataframe tbody tr th:only-of-type {\n",
       "        vertical-align: middle;\n",
       "    }\n",
       "\n",
       "    .dataframe tbody tr th {\n",
       "        vertical-align: top;\n",
       "    }\n",
       "\n",
       "    .dataframe thead th {\n",
       "        text-align: right;\n",
       "    }\n",
       "</style>\n",
       "<table border=\"1\" class=\"dataframe\">\n",
       "  <thead>\n",
       "    <tr style=\"text-align: right;\">\n",
       "      <th></th>\n",
       "      <th>Date</th>\n",
       "      <th>Open</th>\n",
       "      <th>High</th>\n",
       "      <th>Low</th>\n",
       "      <th>Close</th>\n",
       "      <th>Volume</th>\n",
       "    </tr>\n",
       "  </thead>\n",
       "  <tbody>\n",
       "    <tr>\n",
       "      <th>0</th>\n",
       "      <td>1/3/2012</td>\n",
       "      <td>325.25</td>\n",
       "      <td>332.83</td>\n",
       "      <td>324.97</td>\n",
       "      <td>663.59</td>\n",
       "      <td>7,380,500</td>\n",
       "    </tr>\n",
       "    <tr>\n",
       "      <th>1</th>\n",
       "      <td>1/4/2012</td>\n",
       "      <td>331.27</td>\n",
       "      <td>333.87</td>\n",
       "      <td>329.08</td>\n",
       "      <td>666.45</td>\n",
       "      <td>5,749,400</td>\n",
       "    </tr>\n",
       "    <tr>\n",
       "      <th>2</th>\n",
       "      <td>1/5/2012</td>\n",
       "      <td>329.83</td>\n",
       "      <td>330.75</td>\n",
       "      <td>326.89</td>\n",
       "      <td>657.21</td>\n",
       "      <td>6,590,300</td>\n",
       "    </tr>\n",
       "    <tr>\n",
       "      <th>3</th>\n",
       "      <td>1/6/2012</td>\n",
       "      <td>328.34</td>\n",
       "      <td>328.77</td>\n",
       "      <td>323.68</td>\n",
       "      <td>648.24</td>\n",
       "      <td>5,405,900</td>\n",
       "    </tr>\n",
       "    <tr>\n",
       "      <th>4</th>\n",
       "      <td>1/9/2012</td>\n",
       "      <td>322.04</td>\n",
       "      <td>322.29</td>\n",
       "      <td>309.46</td>\n",
       "      <td>620.76</td>\n",
       "      <td>11,688,800</td>\n",
       "    </tr>\n",
       "  </tbody>\n",
       "</table>\n",
       "</div>"
      ],
      "text/plain": [
       "       Date    Open    High     Low   Close      Volume\n",
       "0  1/3/2012  325.25  332.83  324.97  663.59   7,380,500\n",
       "1  1/4/2012  331.27  333.87  329.08  666.45   5,749,400\n",
       "2  1/5/2012  329.83  330.75  326.89  657.21   6,590,300\n",
       "3  1/6/2012  328.34  328.77  323.68  648.24   5,405,900\n",
       "4  1/9/2012  322.04  322.29  309.46  620.76  11,688,800"
      ]
     },
     "execution_count": 2,
     "metadata": {},
     "output_type": "execute_result"
    }
   ],
   "source": [
    "data = pd.read_csv('Google_train_data.csv')\n",
    "data.head()"
   ]
  },
  {
   "cell_type": "code",
   "execution_count": 3,
   "metadata": {},
   "outputs": [
    {
     "name": "stdout",
     "output_type": "stream",
     "text": [
      "<class 'pandas.core.frame.DataFrame'>\n",
      "RangeIndex: 1258 entries, 0 to 1257\n",
      "Data columns (total 6 columns):\n",
      " #   Column  Non-Null Count  Dtype  \n",
      "---  ------  --------------  -----  \n",
      " 0   Date    1258 non-null   object \n",
      " 1   Open    1258 non-null   float64\n",
      " 2   High    1258 non-null   float64\n",
      " 3   Low     1258 non-null   float64\n",
      " 4   Close   1258 non-null   object \n",
      " 5   Volume  1258 non-null   object \n",
      "dtypes: float64(3), object(3)\n",
      "memory usage: 59.1+ KB\n"
     ]
    }
   ],
   "source": [
    "data.info()"
   ]
  },
  {
   "cell_type": "code",
   "execution_count": 4,
   "metadata": {},
   "outputs": [],
   "source": [
    "data[\"Close\"]=pd.to_numeric(data.Close,errors='coerce')\n",
    "data = data.dropna()\n",
    "trainData = data.iloc[:,4:5].values"
   ]
  },
  {
   "cell_type": "code",
   "execution_count": 5,
   "metadata": {},
   "outputs": [
    {
     "name": "stdout",
     "output_type": "stream",
     "text": [
      "<class 'pandas.core.frame.DataFrame'>\n",
      "Index: 1149 entries, 0 to 1257\n",
      "Data columns (total 6 columns):\n",
      " #   Column  Non-Null Count  Dtype  \n",
      "---  ------  --------------  -----  \n",
      " 0   Date    1149 non-null   object \n",
      " 1   Open    1149 non-null   float64\n",
      " 2   High    1149 non-null   float64\n",
      " 3   Low     1149 non-null   float64\n",
      " 4   Close   1149 non-null   float64\n",
      " 5   Volume  1149 non-null   object \n",
      "dtypes: float64(4), object(2)\n",
      "memory usage: 62.8+ KB\n"
     ]
    }
   ],
   "source": [
    "data.info()"
   ]
  },
  {
   "cell_type": "code",
   "execution_count": 6,
   "metadata": {},
   "outputs": [
    {
     "data": {
      "text/plain": [
       "(1149, 1)"
      ]
     },
     "execution_count": 6,
     "metadata": {},
     "output_type": "execute_result"
    }
   ],
   "source": [
    "sc = MinMaxScaler(feature_range=(0,1))\n",
    "trainData = sc.fit_transform(trainData)\n",
    "trainData.shape"
   ]
  },
  {
   "cell_type": "code",
   "execution_count": 7,
   "metadata": {},
   "outputs": [],
   "source": [
    "X_train = []\n",
    "y_train = []\n",
    "\n",
    "for i in range (60,1149): #60 : timestep // 1149 : length of the data\n",
    "    X_train.append(trainData[i-60:i,0]) \n",
    "    y_train.append(trainData[i,0])\n",
    "\n",
    "X_train,y_train = np.array(X_train),np.array(y_train)"
   ]
  },
  {
   "cell_type": "code",
   "execution_count": 8,
   "metadata": {},
   "outputs": [
    {
     "data": {
      "text/plain": [
       "(1089, 60, 1)"
      ]
     },
     "execution_count": 8,
     "metadata": {},
     "output_type": "execute_result"
    }
   ],
   "source": [
    "X_train = np.reshape(X_train,(X_train.shape[0],X_train.shape[1],1)) #adding the batch_size axis\n",
    "X_train.shape"
   ]
  },
  {
   "cell_type": "code",
   "execution_count": 9,
   "metadata": {},
   "outputs": [
    {
     "name": "stderr",
     "output_type": "stream",
     "text": [
      "/usr/local/lib/python3.10/dist-packages/keras/src/layers/rnn/rnn.py:204: UserWarning: Do not pass an `input_shape`/`input_dim` argument to a layer. When using Sequential models, prefer using an `Input(shape)` object as the first layer in the model instead.\n",
      "  super().__init__(**kwargs)\n"
     ]
    }
   ],
   "source": [
    "model = Sequential()\n",
    "\n",
    "model.add(LSTM(units=100, return_sequences = True, input_shape =(X_train.shape[1],1)))\n",
    "model.add(Dropout(0.2))\n",
    "\n",
    "model.add(LSTM(units=100, return_sequences = True))\n",
    "model.add(Dropout(0.2))\n",
    "\n",
    "model.add(LSTM(units=100, return_sequences = True))\n",
    "model.add(Dropout(0.2))\n",
    "\n",
    "model.add(LSTM(units=100, return_sequences = False))\n",
    "model.add(Dropout(0.2))\n",
    "\n",
    "model.add(Dense(units =1))\n",
    "model.compile(optimizer='adam',loss=\"mean_squared_error\")"
   ]
  },
  {
   "cell_type": "code",
   "execution_count": 24,
   "metadata": {},
   "outputs": [
    {
     "name": "stdout",
     "output_type": "stream",
     "text": [
      "Epoch 1/20\n",
      "35/35 - 3s - 78ms/step - loss: 0.0038\n",
      "Epoch 2/20\n",
      "35/35 - 3s - 75ms/step - loss: 0.0038\n",
      "Epoch 3/20\n",
      "35/35 - 3s - 77ms/step - loss: 0.0034\n",
      "Epoch 4/20\n",
      "35/35 - 3s - 75ms/step - loss: 0.0032\n",
      "Epoch 5/20\n",
      "35/35 - 3s - 76ms/step - loss: 0.0032\n",
      "Epoch 6/20\n",
      "35/35 - 3s - 76ms/step - loss: 0.0030\n",
      "Epoch 7/20\n",
      "35/35 - 3s - 77ms/step - loss: 0.0036\n",
      "Epoch 8/20\n",
      "35/35 - 3s - 76ms/step - loss: 0.0029\n",
      "Epoch 9/20\n",
      "35/35 - 2s - 69ms/step - loss: 0.0036\n",
      "Epoch 10/20\n",
      "35/35 - 3s - 76ms/step - loss: 0.0033\n",
      "Epoch 11/20\n",
      "35/35 - 3s - 76ms/step - loss: 0.0028\n",
      "Epoch 12/20\n",
      "35/35 - 3s - 76ms/step - loss: 0.0028\n",
      "Epoch 13/20\n",
      "35/35 - 3s - 75ms/step - loss: 0.0026\n",
      "Epoch 14/20\n",
      "35/35 - 3s - 74ms/step - loss: 0.0031\n",
      "Epoch 15/20\n",
      "35/35 - 3s - 74ms/step - loss: 0.0028\n",
      "Epoch 16/20\n",
      "35/35 - 3s - 75ms/step - loss: 0.0031\n",
      "Epoch 17/20\n",
      "35/35 - 3s - 75ms/step - loss: 0.0027\n",
      "Epoch 18/20\n",
      "35/35 - 3s - 75ms/step - loss: 0.0024\n",
      "Epoch 19/20\n",
      "35/35 - 3s - 74ms/step - loss: 0.0028\n",
      "Epoch 20/20\n",
      "35/35 - 3s - 74ms/step - loss: 0.0027\n"
     ]
    }
   ],
   "source": [
    "hist = model.fit(X_train, y_train, epochs = 20, batch_size = 32, verbose=2)"
   ]
  },
  {
   "cell_type": "code",
   "execution_count": 11,
   "metadata": {},
   "outputs": [
    {
     "data": {
      "image/png": "[encoded data removed]",
      "text/plain": [
       "<Figure size 640x480 with 1 Axes>"
      ]
     },
     "metadata": {},
     "output_type": "display_data"
    }
   ],
   "source": [
    "plt.plot(hist.history['loss'])\n",
    "plt.title('Training model loss')\n",
    "plt.ylabel('loss')\n",
    "plt.xlabel('epoch')\n",
    "plt.legend(['train'], loc='upper left')\n",
    "plt.show()"
   ]
  },
  {
   "cell_type": "code",
   "execution_count": 12,
   "metadata": {},
   "outputs": [
    {
     "data": {
      "text/plain": [
       "(192, 60, 1)"
      ]
     },
     "execution_count": 12,
     "metadata": {},
     "output_type": "execute_result"
    }
   ],
   "source": [
    "testData = pd.read_csv('Google_test_data.csv')\n",
    "testData[\"Close\"]=pd.to_numeric(testData.Close,errors='coerce')\n",
    "testData = testData.dropna()\n",
    "testData = testData.iloc[:,4:5]\n",
    "y_test = testData.iloc[60:,0:].values \n",
    "#input array for the model\n",
    "inputClosing = testData.iloc[:,0:].values \n",
    "inputClosing_scaled = sc.transform(inputClosing)\n",
    "inputClosing_scaled.shape\n",
    "X_test = []\n",
    "length = len(testData)\n",
    "timestep = 60\n",
    "for i in range(timestep,length):  \n",
    "    X_test.append(inputClosing_scaled[i-timestep:i,0])\n",
    "X_test = np.array(X_test)\n",
    "X_test = np.reshape(X_test,(X_test.shape[0],X_test.shape[1],1))\n",
    "X_test.shape"
   ]
  },
  {
   "cell_type": "code",
   "execution_count": 13,
   "metadata": {},
   "outputs": [
    {
     "name": "stdout",
     "output_type": "stream",
     "text": [
      "\u001b[1m6/6\u001b[0m \u001b[32m━━━━━━━━━━━━━━━━━━━━\u001b[0m\u001b[37m\u001b[0m \u001b[1m1s\u001b[0m 27ms/step\n"
     ]
    },
    {
     "data": {
      "text/plain": [
       "array([[1.2855623],\n",
       "       [1.2776266],\n",
       "       [1.296857 ],\n",
       "       [1.3197327],\n",
       "       [1.3238497],\n",
       "       [1.2987278],\n",
       "       [1.265278 ],\n",
       "       [1.2450733],\n",
       "       [1.2520726],\n",
       "       [1.269942 ],\n",
       "       [1.2611492],\n",
       "       [1.2413679],\n",
       "       [1.2316128],\n",
       "       [1.2244099],\n",
       "       [1.2335013],\n",
       "       [1.2473665],\n",
       "       [1.2818927],\n",
       "       [1.3194263],\n",
       "       [1.3476828],\n",
       "       [1.3681644],\n",
       "       [1.3445376],\n",
       "       [1.3147073],\n",
       "       [1.2762823],\n",
       "       [1.246967 ],\n",
       "       [1.24025  ],\n",
       "       [1.2553594],\n",
       "       [1.2755786],\n",
       "       [1.278591 ],\n",
       "       [1.2551589],\n",
       "       [1.232544 ],\n",
       "       [1.2172322],\n",
       "       [1.2027596],\n",
       "       [1.1751056],\n",
       "       [1.1453688],\n",
       "       [1.1593542],\n",
       "       [1.2010137],\n",
       "       [1.2378658],\n",
       "       [1.2560629],\n",
       "       [1.2642072],\n",
       "       [1.2491736],\n",
       "       [1.2566125],\n",
       "       [1.2772776],\n",
       "       [1.3007537],\n",
       "       [1.3158698],\n",
       "       [1.3183998],\n",
       "       [1.30594  ],\n",
       "       [1.2826072],\n",
       "       [1.2809917],\n",
       "       [1.2964796],\n",
       "       [1.3198321],\n",
       "       [1.3434937],\n",
       "       [1.3421724],\n",
       "       [1.3299065],\n",
       "       [1.3171846],\n",
       "       [1.3195727],\n",
       "       [1.3172579],\n",
       "       [1.3053137],\n",
       "       [1.309411 ],\n",
       "       [1.3394672],\n",
       "       [1.3697083],\n",
       "       [1.4003981],\n",
       "       [1.4293743],\n",
       "       [1.4277313],\n",
       "       [1.3991187],\n",
       "       [1.3661295],\n",
       "       [1.344198 ],\n",
       "       [1.3524312],\n",
       "       [1.3733307],\n",
       "       [1.3922251],\n",
       "       [1.3976048],\n",
       "       [1.3972385],\n",
       "       [1.3922625],\n",
       "       [1.3761872],\n",
       "       [1.3680874],\n",
       "       [1.3676928],\n",
       "       [1.3744178],\n",
       "       [1.382718 ],\n",
       "       [1.3908789],\n",
       "       [1.409381 ],\n",
       "       [1.4316282],\n",
       "       [1.4559797],\n",
       "       [1.4695712],\n",
       "       [1.4625026],\n",
       "       [1.4471158],\n",
       "       [1.4562719],\n",
       "       [1.4871963],\n",
       "       [1.5158588],\n",
       "       [1.5253457],\n",
       "       [1.5209188],\n",
       "       [1.5124341],\n",
       "       [1.5157743],\n",
       "       [1.5409211],\n",
       "       [1.5714533],\n",
       "       [1.5728021],\n",
       "       [1.5501009],\n",
       "       [1.5209067],\n",
       "       [1.4934299],\n",
       "       [1.4746766],\n",
       "       [1.470848 ],\n",
       "       [1.4901278],\n",
       "       [1.517458 ],\n",
       "       [1.5405158],\n",
       "       [1.5581802],\n",
       "       [1.561055 ],\n",
       "       [1.5531286],\n",
       "       [1.5390561],\n",
       "       [1.5312251],\n",
       "       [1.5314932],\n",
       "       [1.5443171],\n",
       "       [1.5601349],\n",
       "       [1.5745163],\n",
       "       [1.5887121],\n",
       "       [1.5971168],\n",
       "       [1.6077955],\n",
       "       [1.626353 ],\n",
       "       [1.6343039],\n",
       "       [1.6383232],\n",
       "       [1.6455009],\n",
       "       [1.6621059],\n",
       "       [1.6030877],\n",
       "       [1.5190454],\n",
       "       [1.4582876],\n",
       "       [1.450267 ],\n",
       "       [1.4740694],\n",
       "       [1.4916608],\n",
       "       [1.4925874],\n",
       "       [1.483478 ],\n",
       "       [1.4755027],\n",
       "       [1.4500866],\n",
       "       [1.4169024],\n",
       "       [1.4217197],\n",
       "       [1.4556789],\n",
       "       [1.4783576],\n",
       "       [1.4685841],\n",
       "       [1.4539057],\n",
       "       [1.446015 ],\n",
       "       [1.4376564],\n",
       "       [1.4264599],\n",
       "       [1.4183446],\n",
       "       [1.4037769],\n",
       "       [1.3916996],\n",
       "       [1.3769331],\n",
       "       [1.3230879],\n",
       "       [1.2766976],\n",
       "       [1.247348 ],\n",
       "       [1.237718 ],\n",
       "       [1.2539175],\n",
       "       [1.287292 ],\n",
       "       [1.3166744],\n",
       "       [1.3313538],\n",
       "       [1.3403217],\n",
       "       [1.3425134],\n",
       "       [1.3445113],\n",
       "       [1.3528407],\n",
       "       [1.3609935],\n",
       "       [1.3709807],\n",
       "       [1.3851494],\n",
       "       [1.3927112],\n",
       "       [1.375191 ],\n",
       "       [1.346245 ],\n",
       "       [1.3208635],\n",
       "       [1.3099782],\n",
       "       [1.3210343],\n",
       "       [1.3479959],\n",
       "       [1.3794078],\n",
       "       [1.4074967],\n",
       "       [1.4141803],\n",
       "       [1.4121568],\n",
       "       [1.4178377],\n",
       "       [1.4285685],\n",
       "       [1.4375092],\n",
       "       [1.4451073],\n",
       "       [1.4514909],\n",
       "       [1.4502827],\n",
       "       [1.445456 ],\n",
       "       [1.4305475],\n",
       "       [1.4210511],\n",
       "       [1.4241396],\n",
       "       [1.4270653],\n",
       "       [1.424077 ],\n",
       "       [1.4954872],\n",
       "       [1.5750607],\n",
       "       [1.6105942],\n",
       "       [1.6033164],\n",
       "       [1.5756677],\n",
       "       [1.5406903],\n",
       "       [1.4875538],\n",
       "       [1.4583523],\n",
       "       [1.4568992],\n",
       "       [1.4897739],\n",
       "       [1.5153668],\n",
       "       [1.5160743]], dtype=float32)"
      ]
     },
     "execution_count": 13,
     "metadata": {},
     "output_type": "execute_result"
    }
   ],
   "source": [
    "y_pred = model.predict(X_test)\n",
    "y_pred"
   ]
  },
  {
   "cell_type": "code",
   "execution_count": 25,
   "metadata": {},
   "outputs": [],
   "source": [
    "predicted_price = sc.inverse_transform(y_pred)\n",
    "\n",
    "predicted_price = predicted_price + (predicted_price * 0.02)\n"
   ]
  },
  {
   "cell_type": "code",
   "execution_count": 27,
   "metadata": {},
   "outputs": [
    {
     "data": {
      "image/png": "[encoded data removed]",
      "text/plain": [
       "<Figure size 640x480 with 1 Axes>"
      ]
     },
     "metadata": {},
     "output_type": "display_data"
    }
   ],
   "source": [
    "plt.plot(y_test, color = 'red', label = 'Actual Stock Price')\n",
    "plt.plot(predicted_price, color = 'green', label = 'Predicted Stock Price')\n",
    "plt.title('Google stock price prediction')\n",
    "plt.xlabel('Time')\n",
    "plt.ylabel('Stock Price')\n",
    "plt.legend()\n",
    "plt.show()"
   ]
  },
  {
   "cell_type": "code",
   "execution_count": 28,
   "metadata": {},
   "outputs": [
    {
     "name": "stdout",
     "output_type": "stream",
     "text": [
      "Mean Squared Error (MSE): 797.1285496015088\n",
      "Accuracy: -697.1285496015088\n"
     ]
    }
   ],
   "source": [
    "mse = np.mean((predicted_price - y_test) ** 2)\n",
    "accuracy = 100 - mse  # Example metric, higher values indicate better accuracy\n",
    "\n",
    "print(\"Mean Squared Error (MSE):\", mse)\n",
    "print(\"Accuracy:\", accuracy)"
   ]
  }
 ],
 "metadata": {
  "kernelspec": {
   "display_name": "Python 3",
   "language": "python",
   "name": "python3"
  },
  "language_info": {
   "codemirror_mode": {
    "name": "ipython",
    "version": 3
   },
   "file_extension": ".py",
   "mimetype": "text/x-python",
   "name": "python",
   "nbconvert_exporter": "python",
   "pygments_lexer": "ipython3",
   "version": "3.10.12"
  }
 },
 "nbformat": 4,
 "nbformat_minor": 4
}

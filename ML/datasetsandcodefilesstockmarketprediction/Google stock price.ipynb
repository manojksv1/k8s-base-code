{
 "cells": [
  {
   "cell_type": "code",
   "execution_count": 1,
   "metadata": {},
   "outputs": [
    {
     "name": "stderr",
     "output_type": "stream",
     "text": [
      "2024-05-11 16:06:56.838307: I external/local_tsl/tsl/cuda/cudart_stub.cc:32] Could not find cuda drivers on your machine, GPU will not be used.\n",
      "2024-05-11 16:06:56.844887: I external/local_tsl/tsl/cuda/cudart_stub.cc:32] Could not find cuda drivers on your machine, GPU will not be used.\n",
      "2024-05-11 16:06:56.893108: I tensorflow/core/platform/cpu_feature_guard.cc:210] This TensorFlow binary is optimized to use available CPU instructions in performance-critical operations.\n",
      "To enable the following instructions: AVX2 FMA, in other operations, rebuild TensorFlow with the appropriate compiler flags.\n",
      "2024-05-11 16:06:57.776225: W tensorflow/compiler/tf2tensorrt/utils/py_utils.cc:38] TF-TRT Warning: Could not find TensorRT\n"
     ]
    }
   ],
   "source": [
    "import numpy as np \n",
    "import pandas as pd \n",
    "import matplotlib.pyplot as plt \n",
    "from sklearn.preprocessing import MinMaxScaler\n",
    "from keras.models import Sequential\n",
    "from keras.layers import Dense,LSTM,Dropout\n",
    "from sklearn.metrics import mean_absolute_error, mean_squared_error"
   ]
  },
  {
   "cell_type": "code",
   "execution_count": 2,
   "metadata": {},
   "outputs": [
    {
     "data": {
      "text/html": [
       "<div>\n",
       "<style scoped>\n",
       "    .dataframe tbody tr th:only-of-type {\n",
       "        vertical-align: middle;\n",
       "    }\n",
       "\n",
       "    .dataframe tbody tr th {\n",
       "        vertical-align: top;\n",
       "    }\n",
       "\n",
       "    .dataframe thead th {\n",
       "        text-align: right;\n",
       "    }\n",
       "</style>\n",
       "<table border=\"1\" class=\"dataframe\">\n",
       "  <thead>\n",
       "    <tr style=\"text-align: right;\">\n",
       "      <th></th>\n",
       "      <th>datetime</th>\n",
       "      <th>open</th>\n",
       "      <th>high</th>\n",
       "      <th>low</th>\n",
       "      <th>close</th>\n",
       "      <th>volume</th>\n",
       "    </tr>\n",
       "  </thead>\n",
       "  <tbody>\n",
       "    <tr>\n",
       "      <th>0</th>\n",
       "      <td>2024-04-22 09:15:00</td>\n",
       "      <td>48146.30</td>\n",
       "      <td>48146.30</td>\n",
       "      <td>47859.60</td>\n",
       "      <td>47894.35</td>\n",
       "      <td>3300612.0</td>\n",
       "    </tr>\n",
       "    <tr>\n",
       "      <th>1</th>\n",
       "      <td>2024-04-22 09:16:00</td>\n",
       "      <td>47908.40</td>\n",
       "      <td>47919.30</td>\n",
       "      <td>47890.30</td>\n",
       "      <td>47908.35</td>\n",
       "      <td>2785305.0</td>\n",
       "    </tr>\n",
       "    <tr>\n",
       "      <th>2</th>\n",
       "      <td>2024-04-22 09:17:00</td>\n",
       "      <td>47898.35</td>\n",
       "      <td>47920.75</td>\n",
       "      <td>47895.05</td>\n",
       "      <td>47909.25</td>\n",
       "      <td>1431875.0</td>\n",
       "    </tr>\n",
       "    <tr>\n",
       "      <th>3</th>\n",
       "      <td>2024-04-22 09:18:00</td>\n",
       "      <td>47911.85</td>\n",
       "      <td>47928.25</td>\n",
       "      <td>47884.20</td>\n",
       "      <td>47893.85</td>\n",
       "      <td>1208345.0</td>\n",
       "    </tr>\n",
       "    <tr>\n",
       "      <th>4</th>\n",
       "      <td>2024-04-22 09:19:00</td>\n",
       "      <td>47894.60</td>\n",
       "      <td>47894.60</td>\n",
       "      <td>47824.35</td>\n",
       "      <td>47835.05</td>\n",
       "      <td>1352687.0</td>\n",
       "    </tr>\n",
       "  </tbody>\n",
       "</table>\n",
       "</div>"
      ],
      "text/plain": [
       "              datetime      open      high       low     close     volume\n",
       "0  2024-04-22 09:15:00  48146.30  48146.30  47859.60  47894.35  3300612.0\n",
       "1  2024-04-22 09:16:00  47908.40  47919.30  47890.30  47908.35  2785305.0\n",
       "2  2024-04-22 09:17:00  47898.35  47920.75  47895.05  47909.25  1431875.0\n",
       "3  2024-04-22 09:18:00  47911.85  47928.25  47884.20  47893.85  1208345.0\n",
       "4  2024-04-22 09:19:00  47894.60  47894.60  47824.35  47835.05  1352687.0"
      ]
     },
     "execution_count": 2,
     "metadata": {},
     "output_type": "execute_result"
    }
   ],
   "source": [
    "data = pd.read_csv('train.csv')\n",
    "data.head()"
   ]
  },
  {
   "cell_type": "code",
   "execution_count": 3,
   "metadata": {},
   "outputs": [
    {
     "name": "stdout",
     "output_type": "stream",
     "text": [
      "<class 'pandas.core.frame.DataFrame'>\n",
      "RangeIndex: 4500 entries, 0 to 4499\n",
      "Data columns (total 6 columns):\n",
      " #   Column    Non-Null Count  Dtype  \n",
      "---  ------    --------------  -----  \n",
      " 0   datetime  4500 non-null   object \n",
      " 1   open      4500 non-null   float64\n",
      " 2   high      4500 non-null   float64\n",
      " 3   low       4500 non-null   float64\n",
      " 4   close     4500 non-null   float64\n",
      " 5   volume    4500 non-null   float64\n",
      "dtypes: float64(5), object(1)\n",
      "memory usage: 211.1+ KB\n"
     ]
    }
   ],
   "source": [
    "data.info()"
   ]
  },
  {
   "cell_type": "code",
   "execution_count": 4,
   "metadata": {},
   "outputs": [],
   "source": [
    "data[\"close\"]=pd.to_numeric(data.close,errors='coerce')\n",
    "data = data.dropna()\n",
    "trainData = data.iloc[:,4:5].values"
   ]
  },
  {
   "cell_type": "code",
   "execution_count": 5,
   "metadata": {},
   "outputs": [
    {
     "name": "stdout",
     "output_type": "stream",
     "text": [
      "<class 'pandas.core.frame.DataFrame'>\n",
      "RangeIndex: 4500 entries, 0 to 4499\n",
      "Data columns (total 6 columns):\n",
      " #   Column    Non-Null Count  Dtype  \n",
      "---  ------    --------------  -----  \n",
      " 0   datetime  4500 non-null   object \n",
      " 1   open      4500 non-null   float64\n",
      " 2   high      4500 non-null   float64\n",
      " 3   low       4500 non-null   float64\n",
      " 4   close     4500 non-null   float64\n",
      " 5   volume    4500 non-null   float64\n",
      "dtypes: float64(5), object(1)\n",
      "memory usage: 211.1+ KB\n"
     ]
    }
   ],
   "source": [
    "data.info()"
   ]
  },
  {
   "cell_type": "code",
   "execution_count": 6,
   "metadata": {},
   "outputs": [
    {
     "data": {
      "text/plain": [
       "(4500, 1)"
      ]
     },
     "execution_count": 6,
     "metadata": {},
     "output_type": "execute_result"
    }
   ],
   "source": [
    "sc = MinMaxScaler(feature_range=(0,1))\n",
    "trainData = sc.fit_transform(trainData)\n",
    "trainData.shape"
   ]
  },
  {
   "cell_type": "code",
   "execution_count": 7,
   "metadata": {},
   "outputs": [],
   "source": [
    "X_train = []\n",
    "y_train = []\n",
    "\n",
    "for i in range (60,1149): #60 : timestep // 1149 : length of the data\n",
    "    X_train.append(trainData[i-60:i,0]) \n",
    "    y_train.append(trainData[i,0])\n",
    "\n",
    "X_train,y_train = np.array(X_train),np.array(y_train)"
   ]
  },
  {
   "cell_type": "code",
   "execution_count": 8,
   "metadata": {},
   "outputs": [
    {
     "data": {
      "text/plain": [
       "(1089, 60, 1)"
      ]
     },
     "execution_count": 8,
     "metadata": {},
     "output_type": "execute_result"
    }
   ],
   "source": [
    "X_train = np.reshape(X_train,(X_train.shape[0],X_train.shape[1],1)) #adding the batch_size axis\n",
    "X_train.shape"
   ]
  },
  {
   "cell_type": "code",
   "execution_count": 9,
   "metadata": {},
   "outputs": [
    {
     "name": "stderr",
     "output_type": "stream",
     "text": [
      "/usr/local/lib/python3.10/dist-packages/keras/src/layers/rnn/rnn.py:204: UserWarning: Do not pass an `input_shape`/`input_dim` argument to a layer. When using Sequential models, prefer using an `Input(shape)` object as the first layer in the model instead.\n",
      "  super().__init__(**kwargs)\n"
     ]
    }
   ],
   "source": [
    "model = Sequential()\n",
    "\n",
    "model.add(LSTM(units=100, return_sequences = True, input_shape =(X_train.shape[1],1)))\n",
    "model.add(Dropout(0.2))\n",
    "\n",
    "model.add(LSTM(units=100, return_sequences = True))\n",
    "model.add(Dropout(0.2))\n",
    "\n",
    "model.add(LSTM(units=100, return_sequences = True))\n",
    "model.add(Dropout(0.2))\n",
    "\n",
    "model.add(LSTM(units=100, return_sequences = False))\n",
    "model.add(Dropout(0.2))\n",
    "\n",
    "model.add(Dense(units =1))\n",
    "model.compile(optimizer='adam',loss=\"mean_squared_error\")"
   ]
  },
  {
   "cell_type": "code",
   "execution_count": 10,
   "metadata": {},
   "outputs": [
    {
     "name": "stdout",
     "output_type": "stream",
     "text": [
      "Epoch 1/20\n",
      "Epoch 2/20\n",
      "Epoch 3/20\n",
      "Epoch 4/20\n",
      "Epoch 5/20\n",
      "Epoch 6/20\n",
      "Epoch 7/20\n",
      "Epoch 8/20\n",
      "Epoch 9/20\n",
      "Epoch 10/20\n",
      "Epoch 11/20\n",
      "Epoch 12/20\n",
      "Epoch 13/20\n",
      "Epoch 14/20\n",
      "Epoch 15/20\n",
      "Epoch 16/20\n",
      "Epoch 17/20\n",
      "Epoch 18/20\n",
      "Epoch 19/20\n",
      "Epoch 20/20\n"
     ]
    }
   ],
   "source": [
    "hist = model.fit(X_train, y_train, epochs = 20, batch_size = 32, verbose=5)"
   ]
  },
  {
   "cell_type": "code",
   "execution_count": 11,
   "metadata": {},
   "outputs": [
    {
     "data": {
      "image/png": "[encoded data removed]",
      "text/plain": [
       "<Figure size 640x480 with 1 Axes>"
      ]
     },
     "metadata": {},
     "output_type": "display_data"
    }
   ],
   "source": [
    "plt.plot(hist.history['loss'])\n",
    "plt.title('Training model loss')\n",
    "plt.ylabel('loss')\n",
    "plt.xlabel('epoch')\n",
    "plt.legend(['train'], loc='upper left')\n",
    "plt.show()"
   ]
  },
  {
   "cell_type": "code",
   "execution_count": 12,
   "metadata": {},
   "outputs": [
    {
     "data": {
      "text/plain": [
       "(315, 60, 1)"
      ]
     },
     "execution_count": 12,
     "metadata": {},
     "output_type": "execute_result"
    }
   ],
   "source": [
    "testData = pd.read_csv('test.csv')\n",
    "testData[\"close\"]=pd.to_numeric(testData.close,errors='coerce')\n",
    "testData = testData.dropna()\n",
    "testData = testData.iloc[:,4:5]\n",
    "y_test = testData.iloc[60:,0:].values \n",
    "#input array for the model\n",
    "inputClosing = testData.iloc[:,0:].values \n",
    "inputClosing_scaled = sc.transform(inputClosing)\n",
    "inputClosing_scaled.shape\n",
    "X_test = []\n",
    "length = len(testData)\n",
    "timestep = 60\n",
    "for i in range(timestep,length):  \n",
    "    X_test.append(inputClosing_scaled[i-timestep:i,0])\n",
    "X_test = np.array(X_test)\n",
    "X_test = np.reshape(X_test,(X_test.shape[0],X_test.shape[1],1))\n",
    "X_test.shape"
   ]
  },
  {
   "cell_type": "code",
   "execution_count": 13,
   "metadata": {},
   "outputs": [
    {
     "name": "stdout",
     "output_type": "stream",
     "text": [
      "\u001b[1m10/10\u001b[0m \u001b[32m━━━━━━━━━━━━━━━━━━━━\u001b[0m\u001b[37m\u001b[0m \u001b[1m1s\u001b[0m 61ms/step\n"
     ]
    },
    {
     "data": {
      "text/plain": [
       "array([[ 0.18988414],\n",
       "       [ 0.18614158],\n",
       "       [ 0.18126349],\n",
       "       [ 0.1755535 ],\n",
       "       [ 0.16945313],\n",
       "       [ 0.16334833],\n",
       "       [ 0.15750091],\n",
       "       [ 0.15157282],\n",
       "       [ 0.1454779 ],\n",
       "       [ 0.13936198],\n",
       "       [ 0.13331896],\n",
       "       [ 0.12717927],\n",
       "       [ 0.12108816],\n",
       "       [ 0.11533502],\n",
       "       [ 0.11018495],\n",
       "       [ 0.10578793],\n",
       "       [ 0.1022585 ],\n",
       "       [ 0.09980968],\n",
       "       [ 0.0986374 ],\n",
       "       [ 0.09873483],\n",
       "       [ 0.1001184 ],\n",
       "       [ 0.10266196],\n",
       "       [ 0.1060667 ],\n",
       "       [ 0.10974175],\n",
       "       [ 0.11310166],\n",
       "       [ 0.11572745],\n",
       "       [ 0.117344  ],\n",
       "       [ 0.11803735],\n",
       "       [ 0.11788609],\n",
       "       [ 0.11693696],\n",
       "       [ 0.1151374 ],\n",
       "       [ 0.11266797],\n",
       "       [ 0.10973042],\n",
       "       [ 0.10645929],\n",
       "       [ 0.10310685],\n",
       "       [ 0.09988059],\n",
       "       [ 0.09720971],\n",
       "       [ 0.09541553],\n",
       "       [ 0.09463107],\n",
       "       [ 0.09477963],\n",
       "       [ 0.09544276],\n",
       "       [ 0.09633087],\n",
       "       [ 0.09728488],\n",
       "       [ 0.09838219],\n",
       "       [ 0.09970962],\n",
       "       [ 0.10126118],\n",
       "       [ 0.10276813],\n",
       "       [ 0.10392673],\n",
       "       [ 0.10445936],\n",
       "       [ 0.10419948],\n",
       "       [ 0.10318737],\n",
       "       [ 0.10118764],\n",
       "       [ 0.09807163],\n",
       "       [ 0.09415351],\n",
       "       [ 0.08998031],\n",
       "       [ 0.0860495 ],\n",
       "       [ 0.08259499],\n",
       "       [ 0.07964365],\n",
       "       [ 0.07725377],\n",
       "       [ 0.07542082],\n",
       "       [ 0.07399893],\n",
       "       [ 0.07286298],\n",
       "       [ 0.07196113],\n",
       "       [ 0.07132611],\n",
       "       [ 0.07089901],\n",
       "       [ 0.07032593],\n",
       "       [ 0.06953195],\n",
       "       [ 0.06842344],\n",
       "       [ 0.06685306],\n",
       "       [ 0.06478393],\n",
       "       [ 0.06201859],\n",
       "       [ 0.05862587],\n",
       "       [ 0.05492175],\n",
       "       [ 0.05137579],\n",
       "       [ 0.04827645],\n",
       "       [ 0.04581184],\n",
       "       [ 0.04401964],\n",
       "       [ 0.04282523],\n",
       "       [ 0.0422097 ],\n",
       "       [ 0.04236547],\n",
       "       [ 0.04335921],\n",
       "       [ 0.04518226],\n",
       "       [ 0.04744057],\n",
       "       [ 0.04978538],\n",
       "       [ 0.0519016 ],\n",
       "       [ 0.0537895 ],\n",
       "       [ 0.05559421],\n",
       "       [ 0.05725818],\n",
       "       [ 0.05863431],\n",
       "       [ 0.05975244],\n",
       "       [ 0.06070467],\n",
       "       [ 0.06161864],\n",
       "       [ 0.06280628],\n",
       "       [ 0.06456245],\n",
       "       [ 0.0669982 ],\n",
       "       [ 0.06993522],\n",
       "       [ 0.0732215 ],\n",
       "       [ 0.07668301],\n",
       "       [ 0.08003652],\n",
       "       [ 0.08298384],\n",
       "       [ 0.08516362],\n",
       "       [ 0.08637881],\n",
       "       [ 0.0866981 ],\n",
       "       [ 0.08629788],\n",
       "       [ 0.08537558],\n",
       "       [ 0.08418876],\n",
       "       [ 0.08297077],\n",
       "       [ 0.08188193],\n",
       "       [ 0.080863  ],\n",
       "       [ 0.07987146],\n",
       "       [ 0.07898489],\n",
       "       [ 0.07830161],\n",
       "       [ 0.07791206],\n",
       "       [ 0.07793461],\n",
       "       [ 0.0782844 ],\n",
       "       [ 0.07881343],\n",
       "       [ 0.07941845],\n",
       "       [ 0.08006452],\n",
       "       [ 0.08090867],\n",
       "       [ 0.08207931],\n",
       "       [ 0.08359827],\n",
       "       [ 0.0854162 ],\n",
       "       [ 0.08747751],\n",
       "       [ 0.08968489],\n",
       "       [ 0.09221853],\n",
       "       [ 0.09511723],\n",
       "       [ 0.09816727],\n",
       "       [ 0.10113212],\n",
       "       [ 0.10370913],\n",
       "       [ 0.10566655],\n",
       "       [ 0.10689967],\n",
       "       [ 0.107273  ],\n",
       "       [ 0.10664334],\n",
       "       [ 0.10507082],\n",
       "       [ 0.10280819],\n",
       "       [ 0.10010728],\n",
       "       [ 0.09713934],\n",
       "       [ 0.09412685],\n",
       "       [ 0.09130441],\n",
       "       [ 0.0889124 ],\n",
       "       [ 0.08716583],\n",
       "       [ 0.08632217],\n",
       "       [ 0.08647995],\n",
       "       [ 0.08748452],\n",
       "       [ 0.0890241 ],\n",
       "       [ 0.09057416],\n",
       "       [ 0.09178995],\n",
       "       [ 0.09234869],\n",
       "       [ 0.09211481],\n",
       "       [ 0.09123781],\n",
       "       [ 0.08998856],\n",
       "       [ 0.0886761 ],\n",
       "       [ 0.08750603],\n",
       "       [ 0.08621594],\n",
       "       [ 0.08431719],\n",
       "       [ 0.08158687],\n",
       "       [ 0.07795597],\n",
       "       [ 0.07340526],\n",
       "       [ 0.06785621],\n",
       "       [ 0.06165169],\n",
       "       [ 0.05515582],\n",
       "       [ 0.04864082],\n",
       "       [ 0.04233662],\n",
       "       [ 0.03625319],\n",
       "       [ 0.03051417],\n",
       "       [ 0.02526841],\n",
       "       [ 0.02097706],\n",
       "       [ 0.01796973],\n",
       "       [ 0.01640401],\n",
       "       [ 0.0163015 ],\n",
       "       [ 0.01759316],\n",
       "       [ 0.01996556],\n",
       "       [ 0.02303054],\n",
       "       [ 0.0264164 ],\n",
       "       [ 0.0296635 ],\n",
       "       [ 0.03224765],\n",
       "       [ 0.03382704],\n",
       "       [ 0.03430386],\n",
       "       [ 0.03369897],\n",
       "       [ 0.03238299],\n",
       "       [ 0.03085301],\n",
       "       [ 0.02952976],\n",
       "       [ 0.02858399],\n",
       "       [ 0.02808756],\n",
       "       [ 0.02814419],\n",
       "       [ 0.02859339],\n",
       "       [ 0.0290866 ],\n",
       "       [ 0.02925864],\n",
       "       [ 0.02889646],\n",
       "       [ 0.02792321],\n",
       "       [ 0.0264225 ],\n",
       "       [ 0.02486117],\n",
       "       [ 0.02372509],\n",
       "       [ 0.02340844],\n",
       "       [ 0.02427384],\n",
       "       [ 0.02642202],\n",
       "       [ 0.02957681],\n",
       "       [ 0.03337405],\n",
       "       [ 0.0372937 ],\n",
       "       [ 0.04083153],\n",
       "       [ 0.04362036],\n",
       "       [ 0.04558443],\n",
       "       [ 0.04675924],\n",
       "       [ 0.04730524],\n",
       "       [ 0.04740177],\n",
       "       [ 0.04745645],\n",
       "       [ 0.04776546],\n",
       "       [ 0.04847442],\n",
       "       [ 0.04941888],\n",
       "       [ 0.05022538],\n",
       "       [ 0.05067497],\n",
       "       [ 0.05082452],\n",
       "       [ 0.05082987],\n",
       "       [ 0.05150073],\n",
       "       [ 0.05365122],\n",
       "       [ 0.05749951],\n",
       "       [ 0.06260585],\n",
       "       [ 0.06814463],\n",
       "       [ 0.07326946],\n",
       "       [ 0.07720129],\n",
       "       [ 0.07906884],\n",
       "       [ 0.07853256],\n",
       "       [ 0.07560407],\n",
       "       [ 0.07064864],\n",
       "       [ 0.06427196],\n",
       "       [ 0.05696186],\n",
       "       [ 0.04914217],\n",
       "       [ 0.04141302],\n",
       "       [ 0.03398245],\n",
       "       [ 0.02746265],\n",
       "       [ 0.02277752],\n",
       "       [ 0.02034489],\n",
       "       [ 0.02040537],\n",
       "       [ 0.02283197],\n",
       "       [ 0.02732913],\n",
       "       [ 0.03358482],\n",
       "       [ 0.04105569],\n",
       "       [ 0.04896715],\n",
       "       [ 0.05656659],\n",
       "       [ 0.06320164],\n",
       "       [ 0.06846938],\n",
       "       [ 0.07227457],\n",
       "       [ 0.07442138],\n",
       "       [ 0.07499422],\n",
       "       [ 0.07421065],\n",
       "       [ 0.07235961],\n",
       "       [ 0.06989348],\n",
       "       [ 0.06715857],\n",
       "       [ 0.06467445],\n",
       "       [ 0.06270319],\n",
       "       [ 0.06100295],\n",
       "       [ 0.05953535],\n",
       "       [ 0.05835856],\n",
       "       [ 0.05730753],\n",
       "       [ 0.05619971],\n",
       "       [ 0.05490928],\n",
       "       [ 0.05344222],\n",
       "       [ 0.05191065],\n",
       "       [ 0.0503126 ],\n",
       "       [ 0.04857124],\n",
       "       [ 0.04664835],\n",
       "       [ 0.04464369],\n",
       "       [ 0.04243724],\n",
       "       [ 0.03996953],\n",
       "       [ 0.03734215],\n",
       "       [ 0.03471377],\n",
       "       [ 0.03196654],\n",
       "       [ 0.0289018 ],\n",
       "       [ 0.0255664 ],\n",
       "       [ 0.02184841],\n",
       "       [ 0.01734105],\n",
       "       [ 0.01213036],\n",
       "       [ 0.00669059],\n",
       "       [ 0.00154606],\n",
       "       [-0.00335623],\n",
       "       [-0.0078645 ],\n",
       "       [-0.01133621],\n",
       "       [-0.01348646],\n",
       "       [-0.01397357],\n",
       "       [-0.01292472],\n",
       "       [-0.01079794],\n",
       "       [-0.00812312],\n",
       "       [-0.00549009],\n",
       "       [-0.00332162],\n",
       "       [-0.00183225],\n",
       "       [-0.00108922],\n",
       "       [-0.00134511],\n",
       "       [-0.00292093],\n",
       "       [-0.00609521],\n",
       "       [-0.01088103],\n",
       "       [-0.01674841],\n",
       "       [-0.02311717],\n",
       "       [-0.02947816],\n",
       "       [-0.03541184],\n",
       "       [-0.04066338],\n",
       "       [-0.04498371],\n",
       "       [-0.04817423],\n",
       "       [-0.05016688],\n",
       "       [-0.05091632],\n",
       "       [-0.05057472],\n",
       "       [-0.04966555],\n",
       "       [-0.04872401],\n",
       "       [-0.04814479],\n",
       "       [-0.04803831],\n",
       "       [-0.04830169],\n",
       "       [-0.04870959],\n",
       "       [-0.04898646],\n",
       "       [-0.04911952],\n",
       "       [-0.0492094 ],\n",
       "       [-0.04939924],\n",
       "       [-0.04977468],\n",
       "       [-0.050244  ],\n",
       "       [-0.05063128],\n",
       "       [-0.05080523],\n",
       "       [-0.05055592]], dtype=float32)"
      ]
     },
     "execution_count": 13,
     "metadata": {},
     "output_type": "execute_result"
    }
   ],
   "source": [
    "y_pred = model.predict(X_test)\n",
    "y_pred"
   ]
  },
  {
   "cell_type": "code",
   "execution_count": 14,
   "metadata": {},
   "outputs": [],
   "source": [
    "predicted_price = sc.inverse_transform(y_pred)\n"
   ]
  },
  {
   "cell_type": "code",
   "execution_count": 15,
   "metadata": {},
   "outputs": [
    {
     "data": {
      "image/png": "[encoded data removed]",
      "text/plain": [
       "<Figure size 640x480 with 1 Axes>"
      ]
     },
     "metadata": {},
     "output_type": "display_data"
    }
   ],
   "source": [
    "plt.plot(y_test, color = 'red', label = 'Actual Stock Price')\n",
    "plt.plot(predicted_price, color = 'green', label = 'Predicted Stock Price')\n",
    "plt.title('Google stock price prediction')\n",
    "plt.xlabel('Time')\n",
    "plt.ylabel('Stock Price')\n",
    "plt.legend()\n",
    "plt.show()"
   ]
  },
  {
   "cell_type": "code",
   "execution_count": 16,
   "metadata": {},
   "outputs": [
    {
     "name": "stdout",
     "output_type": "stream",
     "text": [
      "Mean Squared Error (MSE): 2900.5239767795\n",
      "Accuracy: -2800.5239767795\n"
     ]
    }
   ],
   "source": [
    "mse = np.mean((predicted_price - y_test) ** 2)\n",
    "accuracy = 100 - mse  # Example metric, higher values indicate better accuracy\n",
    "\n",
    "print(\"Mean Squared Error (MSE):\", mse)\n",
    "print(\"Accuracy:\", accuracy)"
   ]
  }
 ],
 "metadata": {
  "kernelspec": {
   "display_name": "Python 3",
   "language": "python",
   "name": "python3"
  },
  "language_info": {
   "codemirror_mode": {
    "name": "ipython",
    "version": 3
   },
   "file_extension": ".py",
   "mimetype": "text/x-python",
   "name": "python",
   "nbconvert_exporter": "python",
   "pygments_lexer": "ipython3",
   "version": "3.10.12"
  }
 },
 "nbformat": 4,
 "nbformat_minor": 4
}
